{
 "cells": [
  {
   "cell_type": "code",
   "execution_count": 1,
   "metadata": {
    "collapsed": true
   },
   "outputs": [],
   "source": [
    "import pandas as pd\n",
    "import numpy as np\n",
    "import praw\n",
    "from IPython import display"
   ]
  },
  {
   "cell_type": "code",
   "execution_count": null,
   "metadata": {
    "collapsed": true
   },
   "outputs": [],
   "source": []
  },
  {
   "cell_type": "code",
   "execution_count": 2,
   "metadata": {
    "collapsed": true
   },
   "outputs": [],
   "source": [
    "#Connecting to praw\n",
    "reddit = praw.Reddit(client_id='hKlt61fjB5Unfw',\n",
    "                     client_secret='YmPGZDvCrwt5RvmqID6mmfSSO-w',\n",
    "                     user_agent='prakherg')"
   ]
  },
  {
   "cell_type": "code",
   "execution_count": 3,
   "metadata": {
    "collapsed": true
   },
   "outputs": [],
   "source": [
    "News = {\"created\" : [], \"score\" : [] ,\"title\" : []}"
   ]
  },
  {
   "cell_type": "code",
   "execution_count": 4,
   "metadata": {},
   "outputs": [
    {
     "ename": "AttributeError",
     "evalue": "'int' object has no attribute 'created'",
     "output_type": "error",
     "traceback": [
      "\u001b[1;31m---------------------------------------------------------------------------\u001b[0m",
      "\u001b[1;31mAttributeError\u001b[0m                            Traceback (most recent call last)",
      "\u001b[1;32m<ipython-input-4-ed154b183114>\u001b[0m in \u001b[0;36m<module>\u001b[1;34m()\u001b[0m\n\u001b[0;32m      1\u001b[0m \u001b[1;32mfor\u001b[0m \u001b[0mdownload\u001b[0m \u001b[1;32min\u001b[0m \u001b[0mrange\u001b[0m\u001b[1;33m(\u001b[0m\u001b[1;36m10\u001b[0m\u001b[1;33m)\u001b[0m\u001b[1;33m:\u001b[0m\u001b[1;33m\u001b[0m\u001b[0m\n\u001b[1;32m----> 2\u001b[1;33m     \u001b[0mNews\u001b[0m\u001b[1;33m[\u001b[0m\u001b[1;34m\"created\"\u001b[0m\u001b[1;33m]\u001b[0m\u001b[1;33m.\u001b[0m\u001b[0mappend\u001b[0m\u001b[1;33m(\u001b[0m\u001b[0mdownload\u001b[0m\u001b[1;33m.\u001b[0m\u001b[0mcreated\u001b[0m\u001b[1;33m)\u001b[0m\u001b[1;33m\u001b[0m\u001b[0m\n\u001b[0m\u001b[0;32m      3\u001b[0m     \u001b[0mNews\u001b[0m\u001b[1;33m[\u001b[0m\u001b[1;34m\"score\"\u001b[0m\u001b[1;33m]\u001b[0m\u001b[1;33m.\u001b[0m\u001b[0mappend\u001b[0m\u001b[1;33m(\u001b[0m\u001b[0mdownload\u001b[0m\u001b[1;33m.\u001b[0m\u001b[0mscore\u001b[0m\u001b[1;33m)\u001b[0m\u001b[1;33m\u001b[0m\u001b[0m\n\u001b[0;32m      4\u001b[0m     \u001b[0mNews\u001b[0m\u001b[1;33m[\u001b[0m\u001b[1;34m\"title\"\u001b[0m\u001b[1;33m]\u001b[0m\u001b[1;33m.\u001b[0m\u001b[0mappend\u001b[0m\u001b[1;33m(\u001b[0m\u001b[0mdownload\u001b[0m\u001b[1;33m.\u001b[0m\u001b[0mtitle\u001b[0m\u001b[1;33m)\u001b[0m\u001b[1;33m\u001b[0m\u001b[0m\n\u001b[0;32m      5\u001b[0m     \u001b[0mdisplay\u001b[0m\u001b[1;33m.\u001b[0m\u001b[0mclear_output\u001b[0m\u001b[1;33m(\u001b[0m\u001b[1;33m)\u001b[0m\u001b[1;33m\u001b[0m\u001b[0m\n",
      "\u001b[1;31mAttributeError\u001b[0m: 'int' object has no attribute 'created'"
     ]
    }
   ],
   "source": [
    "for download in range(10):\n",
    "    News[\"created\"].append(download.created)\n",
    "    News[\"score\"].append(download.score)\n",
    "    News[\"title\"].append(download.title)\n",
    "    display.clear_output()\n",
    "    print(len(News))"
   ]
  },
  {
   "cell_type": "code",
   "execution_count": 18,
   "metadata": {
    "scrolled": true
   },
   "outputs": [
    {
     "name": "stdout",
     "output_type": "stream",
     "text": [
      "           created  score                                              title\n",
      "0     1.526583e+09      1  Reasons For More Activities Related to Cryptoc...\n",
      "1     1.526583e+09      1  Reasons For More Activities Related to Cryptoc...\n",
      "2     1.526583e+09      1  Reasons For More Activities Related to Cryptoc...\n",
      "3     1.526602e+09      1      Crowdfund The Crowdfunding - Acorn Collective\n",
      "4     1.526601e+09      1                           KYC and the Game of Life\n",
      "5     1.526601e+09      1  MEWKit cryptocurrency phishing attack uses new...\n",
      "6     1.526600e+09     13  I guess the crypto advertising doesn´t include...\n",
      "7     1.526598e+09      0  Cardano (ADA) Could Be Next On Coinbase Along ...\n",
      "8     1.526596e+09      2  Pied Piper Coin making moves: satirical coin n...\n",
      "9     1.526596e+09      0         MOST PROFESSIONAL CRYPTO EXCHANGE - QURREX\n",
      "10    1.526595e+09      1  Goldman Sachs Have Turned USD Into A Cryptocur...\n",
      "11    1.526593e+09      2  J.P. Morgan is looking into making a cryptocur...\n",
      "12    1.526593e+09      1  Bytecoin Plan Hard Fork To Recover From Recent...\n",
      "13    1.526593e+09      1  How To Setup An Ethereum Wallet And Buy A Cust...\n",
      "14    1.526593e+09      1  Telecom Giant Nokia Will Help to Monetize User...\n",
      "15    1.526592e+09      1  CEO and Founder of IOHK Calls Dash a \"Great Cr...\n",
      "16    1.526591e+09      2  French Finance Minister Suddenly Fanatic Suppo...\n",
      "17    1.526591e+09      0             On the Verge (XVG) of Another Breakout\n",
      "18    1.526590e+09      1    Beta JSE Mining Dashboard | CoinMarketChats.com\n",
      "19    1.526590e+09      1  IOTA is available for easy and fast exchanges ...\n",
      "20    1.526590e+09      2  Great Years to Come for Bitcoin – Apple Co-Fou...\n",
      "21    1.526589e+09      0  How Blockchain will change the face of iGaming...\n",
      "22    1.526589e+09      2  Bing Jumps Aboard the Anti-Crypto Train, Bans ...\n",
      "23    1.526588e+09      1               Sharing is caring (shilling is life)\n",
      "24    1.526585e+09      2  Snoop Dogg Raps at Consensus 2018 After-Party....\n",
      "25    1.526584e+09      1  Upcoming most powerful loyalty and rewards pla...\n",
      "26    1.526584e+09      1  Will Central Banks in Europe-Central Asia Issu...\n",
      "27    1.526584e+09      0  Soon, We Might Be Able To Use Ripple To Hire A...\n",
      "28    1.526583e+09      4  LBX lists 0x (ZRX) along with GBP, Bitcoin and...\n",
      "29    1.526583e+09      2  World Bank: Why Is the Poor Central Asia Becom...\n",
      "...            ...    ...                                                ...\n",
      "1967  1.525807e+09    130  Former finance manager jailed 11 years for che...\n",
      "1968  1.525747e+09     75    5 outrageous moments from Tesla's earnings call\n",
      "1969  1.525727e+09      2  Moronic Monday, May 07, 2018 - Your Weekly Que...\n",
      "1970  1.525519e+09      6      Global Equity Market Trading Hours Visualized\n",
      "1971  1.525511e+09    134  Argentina stuns markets as it pushes interest ...\n",
      "1972  1.525409e+09    134  A bondholder finds a sneaky way to trigger ins...\n",
      "1973  1.525408e+09     46  Inside the World’s Most Elite (and Secret) Tra...\n",
      "1974  1.525257e+09     70  Legendary Investment Banker Richard Jenrette L...\n",
      "1975  1.525241e+09     11               TPG adds John Kerry to $2B Rise Fund\n",
      "1976  1.525234e+09     40  Xiaomi expected to go public with $10 billion IPO\n",
      "1977  1.525228e+09     16  Elliott Eyes Push Into Wall Street's Hottest D...\n",
      "1978  1.525216e+09     13  TPG, Carlyle Invest $1.9B As Baidu Spins Off F...\n",
      "1979  1.525210e+09     58                       Weekly Macro Summary 4/29/18\n",
      "1980  1.525150e+09      5                QuantCon NYC 2018 review – Cuemacro\n",
      "1981  1.525148e+09    135  It seemed like a sure-fire bet: short the debt...\n",
      "1982  1.525122e+09     17  Moronic Monday, April 30, 2018 - Your Weekly Q...\n",
      "1983  1.525122e+09     16   The Myth That Markets Get Prices Right Won’t Die\n",
      "1984  1.525063e+09      4  Why do people keep dismissing technical analys...\n",
      "1985  1.525047e+09    119    Sprin, T-Mobile Boards Approve All-Stock Merger\n",
      "1986  1.524969e+09    376  Warren Buffett on buying bitcoin: 'That is not...\n",
      "1987  1.524955e+09     55  Earnings Inflation Through Adjustments Reaches...\n",
      "1988  1.524949e+09     20  Why Wall Street’s Stock Traders Are Having The...\n",
      "1989  1.524866e+09     64     China Tightens Rules on Financial Institutions\n",
      "1990  1.524743e+09     49  Detection of False Investment Strategies Using...\n",
      "1991  1.524741e+09      8  PetSmart is drowning in debt, after the most e...\n",
      "1992  1.524706e+09    240  Nasdaq is open to becoming cryptocurrency exch...\n",
      "1993  1.524639e+09     11  WorldQuant to launch its first fund open to ou...\n",
      "1994  1.524636e+09     18  Elliott Advisors calls for broad Hyundai restr...\n",
      "1995  1.524606e+09     58                       Weekly Macro Summary 4/22/18\n",
      "1996  1.524518e+09     26  Moronic Monday, April 23, 2018 - Your Weekly Q...\n",
      "\n",
      "[1997 rows x 3 columns]\n"
     ]
    }
   ],
   "source": [
    "News_df = pd.DataFrame(News)\n",
    "print(News_df)"
   ]
  },
  {
   "cell_type": "code",
   "execution_count": 19,
   "metadata": {
    "collapsed": true
   },
   "outputs": [],
   "source": [
    "import datetime as dt\n",
    "def get_date(created):\n",
    "    return dt.datetime.fromtimestamp(created)"
   ]
  },
  {
   "cell_type": "code",
   "execution_count": 20,
   "metadata": {},
   "outputs": [
    {
     "data": {
      "text/html": [
       "<div>\n",
       "<style scoped>\n",
       "    .dataframe tbody tr th:only-of-type {\n",
       "        vertical-align: middle;\n",
       "    }\n",
       "\n",
       "    .dataframe tbody tr th {\n",
       "        vertical-align: top;\n",
       "    }\n",
       "\n",
       "    .dataframe thead th {\n",
       "        text-align: right;\n",
       "    }\n",
       "</style>\n",
       "<table border=\"1\" class=\"dataframe\">\n",
       "  <thead>\n",
       "    <tr style=\"text-align: right;\">\n",
       "      <th></th>\n",
       "      <th>created</th>\n",
       "      <th>score</th>\n",
       "      <th>title</th>\n",
       "      <th>timestamp</th>\n",
       "    </tr>\n",
       "  </thead>\n",
       "  <tbody>\n",
       "    <tr>\n",
       "      <th>1992</th>\n",
       "      <td>1.524706e+09</td>\n",
       "      <td>240</td>\n",
       "      <td>Nasdaq is open to becoming cryptocurrency exch...</td>\n",
       "      <td>2018-04-25 20:21:32</td>\n",
       "    </tr>\n",
       "    <tr>\n",
       "      <th>1993</th>\n",
       "      <td>1.524639e+09</td>\n",
       "      <td>11</td>\n",
       "      <td>WorldQuant to launch its first fund open to ou...</td>\n",
       "      <td>2018-04-25 01:56:51</td>\n",
       "    </tr>\n",
       "    <tr>\n",
       "      <th>1994</th>\n",
       "      <td>1.524636e+09</td>\n",
       "      <td>18</td>\n",
       "      <td>Elliott Advisors calls for broad Hyundai restr...</td>\n",
       "      <td>2018-04-25 00:54:24</td>\n",
       "    </tr>\n",
       "    <tr>\n",
       "      <th>1995</th>\n",
       "      <td>1.524606e+09</td>\n",
       "      <td>58</td>\n",
       "      <td>Weekly Macro Summary 4/22/18</td>\n",
       "      <td>2018-04-24 16:38:45</td>\n",
       "    </tr>\n",
       "    <tr>\n",
       "      <th>1996</th>\n",
       "      <td>1.524518e+09</td>\n",
       "      <td>26</td>\n",
       "      <td>Moronic Monday, April 23, 2018 - Your Weekly Q...</td>\n",
       "      <td>2018-04-23 16:05:36</td>\n",
       "    </tr>\n",
       "  </tbody>\n",
       "</table>\n",
       "</div>"
      ],
      "text/plain": [
       "           created  score                                              title  \\\n",
       "1992  1.524706e+09    240  Nasdaq is open to becoming cryptocurrency exch...   \n",
       "1993  1.524639e+09     11  WorldQuant to launch its first fund open to ou...   \n",
       "1994  1.524636e+09     18  Elliott Advisors calls for broad Hyundai restr...   \n",
       "1995  1.524606e+09     58                       Weekly Macro Summary 4/22/18   \n",
       "1996  1.524518e+09     26  Moronic Monday, April 23, 2018 - Your Weekly Q...   \n",
       "\n",
       "               timestamp  \n",
       "1992 2018-04-25 20:21:32  \n",
       "1993 2018-04-25 01:56:51  \n",
       "1994 2018-04-25 00:54:24  \n",
       "1995 2018-04-24 16:38:45  \n",
       "1996 2018-04-23 16:05:36  "
      ]
     },
     "execution_count": 20,
     "metadata": {},
     "output_type": "execute_result"
    }
   ],
   "source": [
    "_timestamp = News_df[\"created\"].apply(get_date)\n",
    "\n",
    "News_df = News_df.assign( timestamp = _timestamp) \n",
    "\n",
    "News_df.tail(5)"
   ]
  },
  {
   "cell_type": "code",
   "execution_count": 21,
   "metadata": {
    "collapsed": true
   },
   "outputs": [],
   "source": [
    "News_df.to_csv('NewsArticles.csv',sep='\\t')"
   ]
  }
 ],
 "metadata": {
  "kernelspec": {
   "display_name": "Python 3",
   "language": "python",
   "name": "python3"
  },
  "language_info": {
   "codemirror_mode": {
    "name": "ipython",
    "version": 3
   },
   "file_extension": ".py",
   "mimetype": "text/x-python",
   "name": "python",
   "nbconvert_exporter": "python",
   "pygments_lexer": "ipython3",
   "version": "3.6.3"
  }
 },
 "nbformat": 4,
 "nbformat_minor": 2
}
