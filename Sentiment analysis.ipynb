{
 "cells": [
  {
   "cell_type": "code",
   "execution_count": 30,
   "metadata": {},
   "outputs": [],
   "source": [
    "import sys\n",
    "from nltk.corpus import stopwords\n",
    "from nltk.corpus import wordnet\n",
    "from nltk import word_tokenize\n",
    "from nltk.corpus import state_union\n",
    "from nltk.tag import pos_tag\n",
    "from nltk.sentiment.vader import SentimentIntensityAnalyzer\n",
    "from collections import Counter\n",
    "import matplotlib.pyplot as plt\n",
    "import collections, re\n",
    "import string\n",
    "import pylab as plt"
   ]
  },
  {
   "cell_type": "code",
   "execution_count": 6,
   "metadata": {},
   "outputs": [
    {
     "name": "stdout",
     "output_type": "stream",
     "text": [
      "        time_created date_created  up_votes  down_votes  \\\n",
      "136735    1347903706   2012-09-17      5254           0   \n",
      "147907    1354122879   2012-11-28      7457           0   \n",
      "187603    1370655122   2013-06-08     10159           0   \n",
      "189890    1371399325   2013-06-16      5437           0   \n",
      "206253    1377038626   2013-08-20      7700           0   \n",
      "\n",
      "                                                    title  over_18  \\\n",
      "136735  Russia has just declassified news that will sh...    False   \n",
      "147907  Canada creates $5,000 cap on liability for fil...    False   \n",
      "187603   What we have... is... concrete proof of U.S.-...    False   \n",
      "189890  Julian Assange was willing to go to Sweden to ...    False   \n",
      "206253  British PM David Cameron told a member of his ...    False   \n",
      "\n",
      "             author  subreddit  \n",
      "136735        qgyh2  worldnews  \n",
      "147907       mepper  worldnews  \n",
      "187603  dantesinfer  worldnews  \n",
      "189890        umium  worldnews  \n",
      "206253   waggawagga  worldnews  \n"
     ]
    }
   ],
   "source": [
    "# This Python 3 environment comes with many helpful analytics libraries installed\n",
    "# It is defined by the kaggle/python docker image: https://github.com/kaggle/docker-python\n",
    "# For example, here's several helpful packages to load in \n",
    "\n",
    "import numpy as np # linear algebra\n",
    "import pandas as pd # data processing, CSV file I/O (e.g. pd.read_csv)\n",
    "\n",
    "# Input data files are available in the \"../input/\" directory.\n",
    "# For example, running this (by clicking run or pressing Shift+Enter) will list the files in the input directory\n",
    "\n",
    "\n",
    "# Any results you write to the current directory are saved as output.\n",
    "\n",
    "df=pd.read_csv('reddit_worldnews_start_to_2016-11-22.csv')\n",
    "df1=df[df.up_votes>5000]\n",
    "\n",
    "print(df1.head(5))"
   ]
  },
  {
   "cell_type": "code",
   "execution_count": 25,
   "metadata": {},
   "outputs": [
    {
     "name": "stdout",
     "output_type": "stream",
     "text": [
      "Series([], Name: date_created, dtype: object) Series([], Name: title, dtype: object)\n"
     ]
    }
   ],
   "source": [
    "print(df1.date_created, df1.title)"
   ]
  },
  {
   "cell_type": "code",
   "execution_count": 27,
   "metadata": {
    "collapsed": true
   },
   "outputs": [],
   "source": [
    "filtered_words=df1['title'].apply(lambda x: ' '.join([word for word in x.split() if word not in stopwords.words('english')]))\n",
    "\n",
    "bagsofwords_1 = [ collections.Counter(re.findall(r'\\w+', txt)) for txt in filtered_words]\n",
    "sumbags = sum(bagsofwords_1, collections.Counter())"
   ]
  },
  {
   "cell_type": "code",
   "execution_count": null,
   "metadata": {},
   "outputs": [],
   "source": [
    "#to find the proper nouns in the filtered words\n",
    "A=pd.Series.to_string(filtered_words)\n",
    "tagged_sent = pos_tag(A.split())\n",
    "propernouns = [word for word,pos in tagged_sent if pos == 'NNP']\n",
    "\n",
    "propernouns_count=Counter(propernouns)"
   ]
  }
 ],
 "metadata": {
  "kernelspec": {
   "display_name": "Python 3",
   "language": "python",
   "name": "python3"
  }
 },
 "nbformat": 4,
 "nbformat_minor": 2
}
